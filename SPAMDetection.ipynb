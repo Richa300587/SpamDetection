{
  "nbformat": 4,
  "nbformat_minor": 0,
  "metadata": {
    "colab": {
      "provenance": []
    },
    "kernelspec": {
      "name": "python3",
      "display_name": "Python 3"
    },
    "language_info": {
      "name": "python"
    }
  },
  "cells": [
    {
      "cell_type": "markdown",
      "metadata": {
        "id": "_mJQGbTFOCAx"
      },
      "source": [
        "<h1 align='center'><b><font color='indianred'></p>Spam Detection</b></h1>\n"
      ]
    },
    {
      "cell_type": "markdown",
      "source": [
        "Loading Dataset"
      ],
      "metadata": {
        "id": "kEY6v-Gj8tAh"
      }
    },
    {
      "cell_type": "code",
      "source": [
        "#importing all libraries\n",
        "import pandas as pd\n",
        "from pathlib import Path\n",
        "import joblib\n",
        "from sklearn.linear_model import LogisticRegression\n",
        "from sklearn.feature_extraction.text import TfidfVectorizer\n",
        "from sklearn.model_selection import GridSearchCV\n",
        "from sklearn.metrics import f1_score\n",
        "from sklearn.pipeline import Pipeline\n",
        "from sklearn.compose import ColumnTransformer\n",
        "from sklearn.base import TransformerMixin, BaseEstimator\n",
        "from sklearn.model_selection import RepeatedStratifiedKFold\n",
        "from sklearn.model_selection import cross_val_score\n",
        "from sklearn.metrics import classification_report\n",
        "\n",
        "# Import the scipy library for working with sparse matrices\n",
        "from scipy.sparse import csr_matrix"
      ],
      "metadata": {
        "id": "1Gqx0XPuIGiH"
      },
      "execution_count": null,
      "outputs": []
    },
    {
      "cell_type": "code",
      "source": [
        "%load_ext autoreload\n",
        "%autoreload 2"
      ],
      "metadata": {
        "colab": {
          "base_uri": "https://localhost:8080/"
        },
        "id": "FoqCgO5DTj7x",
        "outputId": "27e00ef7-969c-4226-f0c2-e39f49c98c53"
      },
      "execution_count": null,
      "outputs": [
        {
          "output_type": "stream",
          "name": "stdout",
          "text": [
            "The autoreload extension is already loaded. To reload it, use:\n",
            "  %reload_ext autoreload\n"
          ]
        }
      ]
    },
    {
      "cell_type": "code",
      "source": [
        "import sys\n",
        "if 'google.colab' in str(get_ipython()):\n",
        "  from google.colab import drive\n",
        "  drive.mount('/content/drive')\n",
        "  !pip install -U nltk -qq\n",
        "  !pip install -U spacy -qq\n",
        "  !python -m spacy download en_core_web_sm -qq\n",
        "\n",
        "  basepath  = '/content/drive/MyDrive/NaturalLanguageprocessingClass'\n",
        "  sys.path.append('/content/drive/MyDrive/NaturalLanguageprocessingClass/custom_functions_py_files')\n",
        "else:\n",
        "  basepath = '/home/richa/Insync/google_drive_richa/NaturalLanguageprocessingClass'\n",
        "  sys.path.append('/home/richa/Insync/google_drive_richa/NaturalLanguageprocessingClass/custom_functions_py_files')\n"
      ],
      "metadata": {
        "colab": {
          "base_uri": "https://localhost:8080/"
        },
        "id": "b5AYt1WKT2FJ",
        "outputId": "e95f3085-331a-49ae-81f8-58582c51f1f7"
      },
      "execution_count": null,
      "outputs": [
        {
          "output_type": "stream",
          "name": "stdout",
          "text": [
            "Drive already mounted at /content/drive; to attempt to forcibly remount, call drive.mount(\"/content/drive\", force_remount=True).\n",
            "/usr/local/lib/python3.8/dist-packages/torch/cuda/__init__.py:497: UserWarning: Can't initialize NVML\n",
            "  warnings.warn(\"Can't initialize NVML\")\n",
            "2023-02-26 20:39:59.251051: W tensorflow/compiler/xla/stream_executor/platform/default/dso_loader.cc:64] Could not load dynamic library 'libnvinfer.so.7'; dlerror: libnvinfer.so.7: cannot open shared object file: No such file or directory; LD_LIBRARY_PATH: /usr/local/nvidia/lib:/usr/local/nvidia/lib64\n",
            "2023-02-26 20:39:59.251208: W tensorflow/compiler/xla/stream_executor/platform/default/dso_loader.cc:64] Could not load dynamic library 'libnvinfer_plugin.so.7'; dlerror: libnvinfer_plugin.so.7: cannot open shared object file: No such file or directory; LD_LIBRARY_PATH: /usr/local/nvidia/lib:/usr/local/nvidia/lib64\n",
            "2023-02-26 20:39:59.251233: W tensorflow/compiler/tf2tensorrt/utils/py_utils.cc:38] TF-TRT Warning: Cannot dlopen some TensorRT libraries. If you would like to use Nvidia GPU with TensorRT, please make sure the missing libraries mentioned above are installed properly.\n",
            "2023-02-26 20:40:01.142494: E tensorflow/compiler/xla/stream_executor/cuda/cuda_driver.cc:267] failed call to cuInit: CUDA_ERROR_NO_DEVICE: no CUDA-capable device is detected\n",
            "\u001b[2K     \u001b[90m━━━━━━━━━━━━━━━━━━━━━━━━━━━━━━━━━━━━━━━━\u001b[0m \u001b[32m12.8/12.8 MB\u001b[0m \u001b[31m49.7 MB/s\u001b[0m eta \u001b[36m0:00:00\u001b[0m\n",
            "\u001b[?25h\u001b[38;5;2m✔ Download and installation successful\u001b[0m\n",
            "You can now load the package via spacy.load('en_core_web_sm')\n"
          ]
        }
      ]
    },
    {
      "cell_type": "code",
      "source": [
        "base_folder=Path(basepath)\n",
        "data_folder=base_folder/'spamdata/archive'\n",
        "model_folder=base_folder/'models/spamdata_hw3'\n",
        "custom_fuctions=base_folder/'custom_functions_py_files'"
      ],
      "metadata": {
        "id": "h0povEcuVZLU"
      },
      "execution_count": null,
      "outputs": []
    },
    {
      "cell_type": "code",
      "source": [
        "import custom_preprocessor_mod as cp\n",
        "from  featurizer import ManualFeatures\n",
        "from  plot_learning_curve import plot_learning_curve\n",
        "from featurizer1 import ManualFeatures1"
      ],
      "metadata": {
        "id": "QERHdl9mWul9"
      },
      "execution_count": null,
      "outputs": []
    },
    {
      "cell_type": "code",
      "source": [
        "import chardet\n",
        "with open(data_folder/'spam.csv', 'rb') as rawdata:\n",
        "    result = chardet.detect(rawdata.read(100000))\n",
        "result"
      ],
      "metadata": {
        "colab": {
          "base_uri": "https://localhost:8080/"
        },
        "id": "H8hv_GLOYcN8",
        "outputId": "9606201a-c696-405a-c5ed-7712007a2dec"
      },
      "execution_count": null,
      "outputs": [
        {
          "output_type": "execute_result",
          "data": {
            "text/plain": [
              "{'encoding': 'Windows-1252', 'confidence': 0.7270322499829184, 'language': ''}"
            ]
          },
          "metadata": {},
          "execution_count": 8
        }
      ]
    },
    {
      "cell_type": "code",
      "source": [
        "df=pd.read_csv(data_folder/'spam.csv',encoding= 'Windows-1252')\n",
        "df.isnull().sum()"
      ],
      "metadata": {
        "colab": {
          "base_uri": "https://localhost:8080/"
        },
        "id": "azkgBv9PXB89",
        "outputId": "5690e489-f27d-465a-b7f0-b152829b1772"
      },
      "execution_count": null,
      "outputs": [
        {
          "output_type": "execute_result",
          "data": {
            "text/plain": [
              "v1               0\n",
              "v2               0\n",
              "Unnamed: 2    5522\n",
              "Unnamed: 3    5560\n",
              "Unnamed: 4    5566\n",
              "dtype: int64"
            ]
          },
          "metadata": {},
          "execution_count": 7
        }
      ]
    },
    {
      "cell_type": "code",
      "source": [
        "df.shape"
      ],
      "metadata": {
        "colab": {
          "base_uri": "https://localhost:8080/"
        },
        "id": "zbtymZajZzue",
        "outputId": "7d7b7674-164f-421f-c156-7c3f0454ebc9"
      },
      "execution_count": null,
      "outputs": [
        {
          "output_type": "execute_result",
          "data": {
            "text/plain": [
              "(5572, 5)"
            ]
          },
          "metadata": {},
          "execution_count": 8
        }
      ]
    },
    {
      "cell_type": "code",
      "source": [
        "df.columns"
      ],
      "metadata": {
        "colab": {
          "base_uri": "https://localhost:8080/"
        },
        "id": "QWgyB0yVZ9Kp",
        "outputId": "5cd3c706-bd13-47c3-ceb5-be420f07d899"
      },
      "execution_count": null,
      "outputs": [
        {
          "output_type": "execute_result",
          "data": {
            "text/plain": [
              "Index(['v1', 'v2', 'Unnamed: 2', 'Unnamed: 3', 'Unnamed: 4'], dtype='object')"
            ]
          },
          "metadata": {},
          "execution_count": 36
        }
      ]
    },
    {
      "cell_type": "code",
      "source": [
        "df['Unnamed: 2'].unique()"
      ],
      "metadata": {
        "colab": {
          "base_uri": "https://localhost:8080/"
        },
        "id": "Hivy4_h3aJWe",
        "outputId": "6c3c17ef-80b1-4606-d628-6221170a67ad"
      },
      "execution_count": null,
      "outputs": [
        {
          "output_type": "execute_result",
          "data": {
            "text/plain": [
              "array([nan, ' PO Box 5249',\n",
              "       ' the person is definitely special for u..... But if the person is so special',\n",
              "       ' HOWU DOIN? FOUNDURSELF A JOBYET SAUSAGE?LOVE JEN XXX\\\\\"\"',\n",
              "       ' wanted to say hi. HI!!!\\\\\" Stop? Send STOP to 62468\"',\n",
              "       'this wont even start........ Datz confidence..\"', 'GN',\n",
              "       '.;-):-D\"',\n",
              "       'just been in bedbut mite go 2 thepub l8tr if uwana mt up?loads a luv Jenxxx.\\\\\"\"',\n",
              "       ' bt not his girlfrnd... G o o d n i g h t . . .@\"',\n",
              "       ' I\\'ll come up\"',\n",
              "       ' don\\'t miss ur best life for anything... Gud nyt...\"',\n",
              "       ' just as a shop has to give a guarantee on what they sell. B. G.\"',\n",
              "       ' But at d end my love compromised me for everything:-(\\\\\".. Gud mornin:-)\"',\n",
              "       ' the toughest is acting Happy with all unspoken pain inside..\\\\\"\"',\n",
              "       ' smoke hella weed\\\\\"\"', '\\\\\" not \\\\\"what i need to do.\\\\\"\"',\n",
              "       'JUST GOT PAYED2DAY & I HAVBEEN GIVEN Aå£50 PAY RISE 4MY WORK & HAVEBEEN MADE PRESCHOOLCO-ORDINATOR 2I AM FEELINGOOD LUV\\\\\"\"',\n",
              "       ' justthought iåÕd sayhey! how u doin?nearly the endof me wk offdam nevamind!We will have 2Hook up sn if uwant m8? loveJen x.\\\\\"\"',\n",
              "       'JUST REALLYNEED 2DOCD.PLEASE DONTPLEASE DONTIGNORE MYCALLS',\n",
              "       'u hav2hear it!c u sn xxxx\\\\\"\"', \" I don't mind\",\n",
              "       ' Dont Come Near My Body..!! Bcoz My Hands May Not Come 2 Wipe Ur Tears Off That Time..!Gud ni8\"',\n",
              "       \"Well there's still a bit left if you guys want to tonight\",\n",
              "       ' but dont try to prove\\\\\" ..... Gud mrng...\"',\n",
              "       ' SHE SHUDVETOLD U. DID URGRAN KNOW?NEWAY',\n",
              "       ' but watever u shared should be true\\\\\"....\"',\n",
              "       ' like you are the KING\\\\\"...! OR \\\\\"Walk like you Dont care',\n",
              "       ' HAD A COOL NYTHO', ' PO Box 1146 MK45 2WT (2/3)\"',\n",
              "       ' \\\\\"It is d wonderful fruit that a tree gives when it is being hurt by a stone.. Good night......\"',\n",
              "       ' we made you hold all the weed\\\\\"\"',\n",
              "       ' but dont try to prove it..\\\\\" .Gud noon....\"',\n",
              "       ' its a miracle to Love a person who can\\'t Love anyone except U...\\\\\" Gud nyt...\"',\n",
              "       ' Gud night....\"',\n",
              "       ' that\\'s the tiny street where the parking lot is\"',\n",
              "       'PROBPOP IN & CU SATTHEN HUNNY 4BREKKIE! LOVE JEN XXX. PSXTRA LRG PORTIONS 4 ME PLEASE \\\\\"\"',\n",
              "       ' hopeSo hunny. i amnow feelin ill & ithink i may have tonsolitusaswell! damn iam layin in bedreal bored. lotsof luv me xxxx\\\\\"\"',\n",
              "       ' GOD said',\n",
              "       ' always give response 2 who cares 4 U\\\\\"... Gud night..swt dreams..take care\"',\n",
              "       ' HOPE UR OK... WILL GIVE U A BUZ WEDLUNCH. GO OUTSOMEWHERE 4 ADRINK IN TOWN..CUD GO 2WATERSHD 4 A BIT? PPL FROMWRK WILL BTHERE. LOVE PETEXXX.\\\\\"\"',\n",
              "       ' b\\'coz nobody will fight for u. Only u &amp; u have to fight for ur self &amp; win the battle. -VIVEKANAND- G 9t.. SD..\"',\n",
              "       'DEVIOUSBITCH.ANYWAY',\n",
              "       ' ENJOYIN INDIANS AT THE MO..yeP. SaLL gOoD HehE ;> hows bout u shexy? Pete Xx\\\\\"\"'],\n",
              "      dtype=object)"
            ]
          },
          "metadata": {},
          "execution_count": 37
        }
      ]
    },
    {
      "cell_type": "code",
      "source": [
        "df['Unnamed: 3'].unique()"
      ],
      "metadata": {
        "colab": {
          "base_uri": "https://localhost:8080/"
        },
        "id": "Qqu3-jAjad6-",
        "outputId": "fca7341c-6f56-410b-f901-ee2226df114f"
      },
      "execution_count": null,
      "outputs": [
        {
          "output_type": "execute_result",
          "data": {
            "text/plain": [
              "array([nan, ' MK17 92H. 450Ppw 16\"', ' why to miss them', 'GE',\n",
              "       'U NO THECD ISV.IMPORTANT TOME 4 2MORO\\\\\"\"',\n",
              "       'i wil tolerat.bcs ur my someone..... But',\n",
              "       ' ILLSPEAK 2 U2MORO WEN IM NOT ASLEEP...\\\\\"\"',\n",
              "       'whoever is the KING\\\\\"!... Gud nyt\"', ' TX 4 FONIN HON',\n",
              "       ' \\\\\"OH No! COMPETITION\\\\\". Who knew', 'IåÕL CALL U\\\\\"\"'],\n",
              "      dtype=object)"
            ]
          },
          "metadata": {},
          "execution_count": 42
        }
      ]
    },
    {
      "cell_type": "code",
      "source": [
        "df['Text of email']=df['v2'].combine_first(df['Unnamed: 2'])\n",
        "df['Text of email']=df['Text of email'].combine_first(df['Unnamed: 3'])\n",
        "df['Text of email']=df['Text of email'].combine_first(df['Unnamed: 4'])"
      ],
      "metadata": {
        "id": "LaJJCLf6a7OL"
      },
      "execution_count": null,
      "outputs": []
    },
    {
      "cell_type": "code",
      "source": [
        "df.head()"
      ],
      "metadata": {
        "colab": {
          "base_uri": "https://localhost:8080/",
          "height": 206
        },
        "id": "C2PmiZCzbMRQ",
        "outputId": "042f66c1-a36d-4d30-aece-5919d1a48244"
      },
      "execution_count": null,
      "outputs": [
        {
          "output_type": "execute_result",
          "data": {
            "text/plain": [
              "     v1                                                 v2 Unnamed: 2  \\\n",
              "0   ham  Go until jurong point, crazy.. Available only ...        NaN   \n",
              "1   ham                      Ok lar... Joking wif u oni...        NaN   \n",
              "2  spam  Free entry in 2 a wkly comp to win FA Cup fina...        NaN   \n",
              "3   ham  U dun say so early hor... U c already then say...        NaN   \n",
              "4   ham  Nah I don't think he goes to usf, he lives aro...        NaN   \n",
              "\n",
              "  Unnamed: 3 Unnamed: 4                                      Text of email  \n",
              "0        NaN        NaN  Go until jurong point, crazy.. Available only ...  \n",
              "1        NaN        NaN                      Ok lar... Joking wif u oni...  \n",
              "2        NaN        NaN  Free entry in 2 a wkly comp to win FA Cup fina...  \n",
              "3        NaN        NaN  U dun say so early hor... U c already then say...  \n",
              "4        NaN        NaN  Nah I don't think he goes to usf, he lives aro...  "
            ],
            "text/html": [
              "\n",
              "  <div id=\"df-4724f154-2ea0-4a8b-89a2-50adbba90c4a\">\n",
              "    <div class=\"colab-df-container\">\n",
              "      <div>\n",
              "<style scoped>\n",
              "    .dataframe tbody tr th:only-of-type {\n",
              "        vertical-align: middle;\n",
              "    }\n",
              "\n",
              "    .dataframe tbody tr th {\n",
              "        vertical-align: top;\n",
              "    }\n",
              "\n",
              "    .dataframe thead th {\n",
              "        text-align: right;\n",
              "    }\n",
              "</style>\n",
              "<table border=\"1\" class=\"dataframe\">\n",
              "  <thead>\n",
              "    <tr style=\"text-align: right;\">\n",
              "      <th></th>\n",
              "      <th>v1</th>\n",
              "      <th>v2</th>\n",
              "      <th>Unnamed: 2</th>\n",
              "      <th>Unnamed: 3</th>\n",
              "      <th>Unnamed: 4</th>\n",
              "      <th>Text of email</th>\n",
              "    </tr>\n",
              "  </thead>\n",
              "  <tbody>\n",
              "    <tr>\n",
              "      <th>0</th>\n",
              "      <td>ham</td>\n",
              "      <td>Go until jurong point, crazy.. Available only ...</td>\n",
              "      <td>NaN</td>\n",
              "      <td>NaN</td>\n",
              "      <td>NaN</td>\n",
              "      <td>Go until jurong point, crazy.. Available only ...</td>\n",
              "    </tr>\n",
              "    <tr>\n",
              "      <th>1</th>\n",
              "      <td>ham</td>\n",
              "      <td>Ok lar... Joking wif u oni...</td>\n",
              "      <td>NaN</td>\n",
              "      <td>NaN</td>\n",
              "      <td>NaN</td>\n",
              "      <td>Ok lar... Joking wif u oni...</td>\n",
              "    </tr>\n",
              "    <tr>\n",
              "      <th>2</th>\n",
              "      <td>spam</td>\n",
              "      <td>Free entry in 2 a wkly comp to win FA Cup fina...</td>\n",
              "      <td>NaN</td>\n",
              "      <td>NaN</td>\n",
              "      <td>NaN</td>\n",
              "      <td>Free entry in 2 a wkly comp to win FA Cup fina...</td>\n",
              "    </tr>\n",
              "    <tr>\n",
              "      <th>3</th>\n",
              "      <td>ham</td>\n",
              "      <td>U dun say so early hor... U c already then say...</td>\n",
              "      <td>NaN</td>\n",
              "      <td>NaN</td>\n",
              "      <td>NaN</td>\n",
              "      <td>U dun say so early hor... U c already then say...</td>\n",
              "    </tr>\n",
              "    <tr>\n",
              "      <th>4</th>\n",
              "      <td>ham</td>\n",
              "      <td>Nah I don't think he goes to usf, he lives aro...</td>\n",
              "      <td>NaN</td>\n",
              "      <td>NaN</td>\n",
              "      <td>NaN</td>\n",
              "      <td>Nah I don't think he goes to usf, he lives aro...</td>\n",
              "    </tr>\n",
              "  </tbody>\n",
              "</table>\n",
              "</div>\n",
              "      <button class=\"colab-df-convert\" onclick=\"convertToInteractive('df-4724f154-2ea0-4a8b-89a2-50adbba90c4a')\"\n",
              "              title=\"Convert this dataframe to an interactive table.\"\n",
              "              style=\"display:none;\">\n",
              "        \n",
              "  <svg xmlns=\"http://www.w3.org/2000/svg\" height=\"24px\"viewBox=\"0 0 24 24\"\n",
              "       width=\"24px\">\n",
              "    <path d=\"M0 0h24v24H0V0z\" fill=\"none\"/>\n",
              "    <path d=\"M18.56 5.44l.94 2.06.94-2.06 2.06-.94-2.06-.94-.94-2.06-.94 2.06-2.06.94zm-11 1L8.5 8.5l.94-2.06 2.06-.94-2.06-.94L8.5 2.5l-.94 2.06-2.06.94zm10 10l.94 2.06.94-2.06 2.06-.94-2.06-.94-.94-2.06-.94 2.06-2.06.94z\"/><path d=\"M17.41 7.96l-1.37-1.37c-.4-.4-.92-.59-1.43-.59-.52 0-1.04.2-1.43.59L10.3 9.45l-7.72 7.72c-.78.78-.78 2.05 0 2.83L4 21.41c.39.39.9.59 1.41.59.51 0 1.02-.2 1.41-.59l7.78-7.78 2.81-2.81c.8-.78.8-2.07 0-2.86zM5.41 20L4 18.59l7.72-7.72 1.47 1.35L5.41 20z\"/>\n",
              "  </svg>\n",
              "      </button>\n",
              "      \n",
              "  <style>\n",
              "    .colab-df-container {\n",
              "      display:flex;\n",
              "      flex-wrap:wrap;\n",
              "      gap: 12px;\n",
              "    }\n",
              "\n",
              "    .colab-df-convert {\n",
              "      background-color: #E8F0FE;\n",
              "      border: none;\n",
              "      border-radius: 50%;\n",
              "      cursor: pointer;\n",
              "      display: none;\n",
              "      fill: #1967D2;\n",
              "      height: 32px;\n",
              "      padding: 0 0 0 0;\n",
              "      width: 32px;\n",
              "    }\n",
              "\n",
              "    .colab-df-convert:hover {\n",
              "      background-color: #E2EBFA;\n",
              "      box-shadow: 0px 1px 2px rgba(60, 64, 67, 0.3), 0px 1px 3px 1px rgba(60, 64, 67, 0.15);\n",
              "      fill: #174EA6;\n",
              "    }\n",
              "\n",
              "    [theme=dark] .colab-df-convert {\n",
              "      background-color: #3B4455;\n",
              "      fill: #D2E3FC;\n",
              "    }\n",
              "\n",
              "    [theme=dark] .colab-df-convert:hover {\n",
              "      background-color: #434B5C;\n",
              "      box-shadow: 0px 1px 3px 1px rgba(0, 0, 0, 0.15);\n",
              "      filter: drop-shadow(0px 1px 2px rgba(0, 0, 0, 0.3));\n",
              "      fill: #FFFFFF;\n",
              "    }\n",
              "  </style>\n",
              "\n",
              "      <script>\n",
              "        const buttonEl =\n",
              "          document.querySelector('#df-4724f154-2ea0-4a8b-89a2-50adbba90c4a button.colab-df-convert');\n",
              "        buttonEl.style.display =\n",
              "          google.colab.kernel.accessAllowed ? 'block' : 'none';\n",
              "\n",
              "        async function convertToInteractive(key) {\n",
              "          const element = document.querySelector('#df-4724f154-2ea0-4a8b-89a2-50adbba90c4a');\n",
              "          const dataTable =\n",
              "            await google.colab.kernel.invokeFunction('convertToInteractive',\n",
              "                                                     [key], {});\n",
              "          if (!dataTable) return;\n",
              "\n",
              "          const docLinkHtml = 'Like what you see? Visit the ' +\n",
              "            '<a target=\"_blank\" href=https://colab.research.google.com/notebooks/data_table.ipynb>data table notebook</a>'\n",
              "            + ' to learn more about interactive tables.';\n",
              "          element.innerHTML = '';\n",
              "          dataTable['output_type'] = 'display_data';\n",
              "          await google.colab.output.renderOutput(dataTable, element);\n",
              "          const docLink = document.createElement('div');\n",
              "          docLink.innerHTML = docLinkHtml;\n",
              "          element.appendChild(docLink);\n",
              "        }\n",
              "      </script>\n",
              "    </div>\n",
              "  </div>\n",
              "  "
            ]
          },
          "metadata": {},
          "execution_count": 39
        }
      ]
    },
    {
      "cell_type": "code",
      "source": [
        "df.drop(columns=['v2', 'Unnamed: 2', 'Unnamed: 3', 'Unnamed: 4'],axis=1,inplace=True)"
      ],
      "metadata": {
        "id": "UyHdSqrtb8mr"
      },
      "execution_count": null,
      "outputs": []
    },
    {
      "cell_type": "code",
      "source": [
        "df.head()"
      ],
      "metadata": {
        "colab": {
          "base_uri": "https://localhost:8080/",
          "height": 206
        },
        "id": "A0XnV4hucIEz",
        "outputId": "fcd90b5c-57e3-41d0-cbdd-280d15a7a3b2"
      },
      "execution_count": null,
      "outputs": [
        {
          "output_type": "execute_result",
          "data": {
            "text/plain": [
              "     v1                                      Text of email\n",
              "0   ham  Go until jurong point, crazy.. Available only ...\n",
              "1   ham                      Ok lar... Joking wif u oni...\n",
              "2  spam  Free entry in 2 a wkly comp to win FA Cup fina...\n",
              "3   ham  U dun say so early hor... U c already then say...\n",
              "4   ham  Nah I don't think he goes to usf, he lives aro..."
            ],
            "text/html": [
              "\n",
              "  <div id=\"df-d943c482-e3c5-4385-9db2-3d864bcda8c1\">\n",
              "    <div class=\"colab-df-container\">\n",
              "      <div>\n",
              "<style scoped>\n",
              "    .dataframe tbody tr th:only-of-type {\n",
              "        vertical-align: middle;\n",
              "    }\n",
              "\n",
              "    .dataframe tbody tr th {\n",
              "        vertical-align: top;\n",
              "    }\n",
              "\n",
              "    .dataframe thead th {\n",
              "        text-align: right;\n",
              "    }\n",
              "</style>\n",
              "<table border=\"1\" class=\"dataframe\">\n",
              "  <thead>\n",
              "    <tr style=\"text-align: right;\">\n",
              "      <th></th>\n",
              "      <th>v1</th>\n",
              "      <th>Text of email</th>\n",
              "    </tr>\n",
              "  </thead>\n",
              "  <tbody>\n",
              "    <tr>\n",
              "      <th>0</th>\n",
              "      <td>ham</td>\n",
              "      <td>Go until jurong point, crazy.. Available only ...</td>\n",
              "    </tr>\n",
              "    <tr>\n",
              "      <th>1</th>\n",
              "      <td>ham</td>\n",
              "      <td>Ok lar... Joking wif u oni...</td>\n",
              "    </tr>\n",
              "    <tr>\n",
              "      <th>2</th>\n",
              "      <td>spam</td>\n",
              "      <td>Free entry in 2 a wkly comp to win FA Cup fina...</td>\n",
              "    </tr>\n",
              "    <tr>\n",
              "      <th>3</th>\n",
              "      <td>ham</td>\n",
              "      <td>U dun say so early hor... U c already then say...</td>\n",
              "    </tr>\n",
              "    <tr>\n",
              "      <th>4</th>\n",
              "      <td>ham</td>\n",
              "      <td>Nah I don't think he goes to usf, he lives aro...</td>\n",
              "    </tr>\n",
              "  </tbody>\n",
              "</table>\n",
              "</div>\n",
              "      <button class=\"colab-df-convert\" onclick=\"convertToInteractive('df-d943c482-e3c5-4385-9db2-3d864bcda8c1')\"\n",
              "              title=\"Convert this dataframe to an interactive table.\"\n",
              "              style=\"display:none;\">\n",
              "        \n",
              "  <svg xmlns=\"http://www.w3.org/2000/svg\" height=\"24px\"viewBox=\"0 0 24 24\"\n",
              "       width=\"24px\">\n",
              "    <path d=\"M0 0h24v24H0V0z\" fill=\"none\"/>\n",
              "    <path d=\"M18.56 5.44l.94 2.06.94-2.06 2.06-.94-2.06-.94-.94-2.06-.94 2.06-2.06.94zm-11 1L8.5 8.5l.94-2.06 2.06-.94-2.06-.94L8.5 2.5l-.94 2.06-2.06.94zm10 10l.94 2.06.94-2.06 2.06-.94-2.06-.94-.94-2.06-.94 2.06-2.06.94z\"/><path d=\"M17.41 7.96l-1.37-1.37c-.4-.4-.92-.59-1.43-.59-.52 0-1.04.2-1.43.59L10.3 9.45l-7.72 7.72c-.78.78-.78 2.05 0 2.83L4 21.41c.39.39.9.59 1.41.59.51 0 1.02-.2 1.41-.59l7.78-7.78 2.81-2.81c.8-.78.8-2.07 0-2.86zM5.41 20L4 18.59l7.72-7.72 1.47 1.35L5.41 20z\"/>\n",
              "  </svg>\n",
              "      </button>\n",
              "      \n",
              "  <style>\n",
              "    .colab-df-container {\n",
              "      display:flex;\n",
              "      flex-wrap:wrap;\n",
              "      gap: 12px;\n",
              "    }\n",
              "\n",
              "    .colab-df-convert {\n",
              "      background-color: #E8F0FE;\n",
              "      border: none;\n",
              "      border-radius: 50%;\n",
              "      cursor: pointer;\n",
              "      display: none;\n",
              "      fill: #1967D2;\n",
              "      height: 32px;\n",
              "      padding: 0 0 0 0;\n",
              "      width: 32px;\n",
              "    }\n",
              "\n",
              "    .colab-df-convert:hover {\n",
              "      background-color: #E2EBFA;\n",
              "      box-shadow: 0px 1px 2px rgba(60, 64, 67, 0.3), 0px 1px 3px 1px rgba(60, 64, 67, 0.15);\n",
              "      fill: #174EA6;\n",
              "    }\n",
              "\n",
              "    [theme=dark] .colab-df-convert {\n",
              "      background-color: #3B4455;\n",
              "      fill: #D2E3FC;\n",
              "    }\n",
              "\n",
              "    [theme=dark] .colab-df-convert:hover {\n",
              "      background-color: #434B5C;\n",
              "      box-shadow: 0px 1px 3px 1px rgba(0, 0, 0, 0.15);\n",
              "      filter: drop-shadow(0px 1px 2px rgba(0, 0, 0, 0.3));\n",
              "      fill: #FFFFFF;\n",
              "    }\n",
              "  </style>\n",
              "\n",
              "      <script>\n",
              "        const buttonEl =\n",
              "          document.querySelector('#df-d943c482-e3c5-4385-9db2-3d864bcda8c1 button.colab-df-convert');\n",
              "        buttonEl.style.display =\n",
              "          google.colab.kernel.accessAllowed ? 'block' : 'none';\n",
              "\n",
              "        async function convertToInteractive(key) {\n",
              "          const element = document.querySelector('#df-d943c482-e3c5-4385-9db2-3d864bcda8c1');\n",
              "          const dataTable =\n",
              "            await google.colab.kernel.invokeFunction('convertToInteractive',\n",
              "                                                     [key], {});\n",
              "          if (!dataTable) return;\n",
              "\n",
              "          const docLinkHtml = 'Like what you see? Visit the ' +\n",
              "            '<a target=\"_blank\" href=https://colab.research.google.com/notebooks/data_table.ipynb>data table notebook</a>'\n",
              "            + ' to learn more about interactive tables.';\n",
              "          element.innerHTML = '';\n",
              "          dataTable['output_type'] = 'display_data';\n",
              "          await google.colab.output.renderOutput(dataTable, element);\n",
              "          const docLink = document.createElement('div');\n",
              "          docLink.innerHTML = docLinkHtml;\n",
              "          element.appendChild(docLink);\n",
              "        }\n",
              "      </script>\n",
              "    </div>\n",
              "  </div>\n",
              "  "
            ]
          },
          "metadata": {},
          "execution_count": 41
        }
      ]
    },
    {
      "cell_type": "code",
      "source": [
        "df.columns=['Label','Message']"
      ],
      "metadata": {
        "id": "4LXofQkTcKOK"
      },
      "execution_count": null,
      "outputs": []
    },
    {
      "cell_type": "code",
      "source": [
        "df.head()"
      ],
      "metadata": {
        "colab": {
          "base_uri": "https://localhost:8080/",
          "height": 206
        },
        "id": "qLiCN5Y_ccfM",
        "outputId": "f55eef2d-8e9c-4095-adad-b9571c1c7197"
      },
      "execution_count": null,
      "outputs": [
        {
          "output_type": "execute_result",
          "data": {
            "text/plain": [
              "  Label                                            Message\n",
              "0   ham  Go until jurong point, crazy.. Available only ...\n",
              "1   ham                      Ok lar... Joking wif u oni...\n",
              "2  spam  Free entry in 2 a wkly comp to win FA Cup fina...\n",
              "3   ham  U dun say so early hor... U c already then say...\n",
              "4   ham  Nah I don't think he goes to usf, he lives aro..."
            ],
            "text/html": [
              "\n",
              "  <div id=\"df-2f341b19-cf64-4254-ad01-b4fd524e5e47\">\n",
              "    <div class=\"colab-df-container\">\n",
              "      <div>\n",
              "<style scoped>\n",
              "    .dataframe tbody tr th:only-of-type {\n",
              "        vertical-align: middle;\n",
              "    }\n",
              "\n",
              "    .dataframe tbody tr th {\n",
              "        vertical-align: top;\n",
              "    }\n",
              "\n",
              "    .dataframe thead th {\n",
              "        text-align: right;\n",
              "    }\n",
              "</style>\n",
              "<table border=\"1\" class=\"dataframe\">\n",
              "  <thead>\n",
              "    <tr style=\"text-align: right;\">\n",
              "      <th></th>\n",
              "      <th>Label</th>\n",
              "      <th>Message</th>\n",
              "    </tr>\n",
              "  </thead>\n",
              "  <tbody>\n",
              "    <tr>\n",
              "      <th>0</th>\n",
              "      <td>ham</td>\n",
              "      <td>Go until jurong point, crazy.. Available only ...</td>\n",
              "    </tr>\n",
              "    <tr>\n",
              "      <th>1</th>\n",
              "      <td>ham</td>\n",
              "      <td>Ok lar... Joking wif u oni...</td>\n",
              "    </tr>\n",
              "    <tr>\n",
              "      <th>2</th>\n",
              "      <td>spam</td>\n",
              "      <td>Free entry in 2 a wkly comp to win FA Cup fina...</td>\n",
              "    </tr>\n",
              "    <tr>\n",
              "      <th>3</th>\n",
              "      <td>ham</td>\n",
              "      <td>U dun say so early hor... U c already then say...</td>\n",
              "    </tr>\n",
              "    <tr>\n",
              "      <th>4</th>\n",
              "      <td>ham</td>\n",
              "      <td>Nah I don't think he goes to usf, he lives aro...</td>\n",
              "    </tr>\n",
              "  </tbody>\n",
              "</table>\n",
              "</div>\n",
              "      <button class=\"colab-df-convert\" onclick=\"convertToInteractive('df-2f341b19-cf64-4254-ad01-b4fd524e5e47')\"\n",
              "              title=\"Convert this dataframe to an interactive table.\"\n",
              "              style=\"display:none;\">\n",
              "        \n",
              "  <svg xmlns=\"http://www.w3.org/2000/svg\" height=\"24px\"viewBox=\"0 0 24 24\"\n",
              "       width=\"24px\">\n",
              "    <path d=\"M0 0h24v24H0V0z\" fill=\"none\"/>\n",
              "    <path d=\"M18.56 5.44l.94 2.06.94-2.06 2.06-.94-2.06-.94-.94-2.06-.94 2.06-2.06.94zm-11 1L8.5 8.5l.94-2.06 2.06-.94-2.06-.94L8.5 2.5l-.94 2.06-2.06.94zm10 10l.94 2.06.94-2.06 2.06-.94-2.06-.94-.94-2.06-.94 2.06-2.06.94z\"/><path d=\"M17.41 7.96l-1.37-1.37c-.4-.4-.92-.59-1.43-.59-.52 0-1.04.2-1.43.59L10.3 9.45l-7.72 7.72c-.78.78-.78 2.05 0 2.83L4 21.41c.39.39.9.59 1.41.59.51 0 1.02-.2 1.41-.59l7.78-7.78 2.81-2.81c.8-.78.8-2.07 0-2.86zM5.41 20L4 18.59l7.72-7.72 1.47 1.35L5.41 20z\"/>\n",
              "  </svg>\n",
              "      </button>\n",
              "      \n",
              "  <style>\n",
              "    .colab-df-container {\n",
              "      display:flex;\n",
              "      flex-wrap:wrap;\n",
              "      gap: 12px;\n",
              "    }\n",
              "\n",
              "    .colab-df-convert {\n",
              "      background-color: #E8F0FE;\n",
              "      border: none;\n",
              "      border-radius: 50%;\n",
              "      cursor: pointer;\n",
              "      display: none;\n",
              "      fill: #1967D2;\n",
              "      height: 32px;\n",
              "      padding: 0 0 0 0;\n",
              "      width: 32px;\n",
              "    }\n",
              "\n",
              "    .colab-df-convert:hover {\n",
              "      background-color: #E2EBFA;\n",
              "      box-shadow: 0px 1px 2px rgba(60, 64, 67, 0.3), 0px 1px 3px 1px rgba(60, 64, 67, 0.15);\n",
              "      fill: #174EA6;\n",
              "    }\n",
              "\n",
              "    [theme=dark] .colab-df-convert {\n",
              "      background-color: #3B4455;\n",
              "      fill: #D2E3FC;\n",
              "    }\n",
              "\n",
              "    [theme=dark] .colab-df-convert:hover {\n",
              "      background-color: #434B5C;\n",
              "      box-shadow: 0px 1px 3px 1px rgba(0, 0, 0, 0.15);\n",
              "      filter: drop-shadow(0px 1px 2px rgba(0, 0, 0, 0.3));\n",
              "      fill: #FFFFFF;\n",
              "    }\n",
              "  </style>\n",
              "\n",
              "      <script>\n",
              "        const buttonEl =\n",
              "          document.querySelector('#df-2f341b19-cf64-4254-ad01-b4fd524e5e47 button.colab-df-convert');\n",
              "        buttonEl.style.display =\n",
              "          google.colab.kernel.accessAllowed ? 'block' : 'none';\n",
              "\n",
              "        async function convertToInteractive(key) {\n",
              "          const element = document.querySelector('#df-2f341b19-cf64-4254-ad01-b4fd524e5e47');\n",
              "          const dataTable =\n",
              "            await google.colab.kernel.invokeFunction('convertToInteractive',\n",
              "                                                     [key], {});\n",
              "          if (!dataTable) return;\n",
              "\n",
              "          const docLinkHtml = 'Like what you see? Visit the ' +\n",
              "            '<a target=\"_blank\" href=https://colab.research.google.com/notebooks/data_table.ipynb>data table notebook</a>'\n",
              "            + ' to learn more about interactive tables.';\n",
              "          element.innerHTML = '';\n",
              "          dataTable['output_type'] = 'display_data';\n",
              "          await google.colab.output.renderOutput(dataTable, element);\n",
              "          const docLink = document.createElement('div');\n",
              "          docLink.innerHTML = docLinkHtml;\n",
              "          element.appendChild(docLink);\n",
              "        }\n",
              "      </script>\n",
              "    </div>\n",
              "  </div>\n",
              "  "
            ]
          },
          "metadata": {},
          "execution_count": 12
        }
      ]
    },
    {
      "cell_type": "code",
      "source": [
        "ham=df[df['Label']=='ham'].shape[0]*100/df.shape[0]\n",
        "print(f'percentage of ham messages is {ham}')\n",
        "spam=df[df['Label']=='spam'].shape[0]*100/df.shape[0]\n",
        "print(f'percentage of spam messages is {spam}')"
      ],
      "metadata": {
        "colab": {
          "base_uri": "https://localhost:8080/"
        },
        "id": "kNnVHVVocoLF",
        "outputId": "a7b6bef5-8b32-43e6-bca7-35d4b4ef055e"
      },
      "execution_count": null,
      "outputs": [
        {
          "output_type": "stream",
          "name": "stdout",
          "text": [
            "percentage of ham messages is 86.59368269921033\n",
            "percentage of spam messages is 13.406317300789663\n"
          ]
        }
      ]
    },
    {
      "cell_type": "code",
      "source": [
        "df['Label']=df['Label'].replace({'spam':1,'ham':0}).astype(float)\n"
      ],
      "metadata": {
        "id": "3R5wJJBjjT9D"
      },
      "execution_count": null,
      "outputs": []
    },
    {
      "cell_type": "code",
      "source": [
        "df.head()"
      ],
      "metadata": {
        "colab": {
          "base_uri": "https://localhost:8080/",
          "height": 206
        },
        "id": "v43pD2_xaAMw",
        "outputId": "ad22ccc4-e354-464e-c9f1-a944bd3cb483"
      },
      "execution_count": null,
      "outputs": [
        {
          "output_type": "execute_result",
          "data": {
            "text/plain": [
              "   Label                                            Message\n",
              "0    0.0  Go until jurong point, crazy.. Available only ...\n",
              "1    0.0                      Ok lar... Joking wif u oni...\n",
              "2    1.0  Free entry in 2 a wkly comp to win FA Cup fina...\n",
              "3    0.0  U dun say so early hor... U c already then say...\n",
              "4    0.0  Nah I don't think he goes to usf, he lives aro..."
            ],
            "text/html": [
              "\n",
              "  <div id=\"df-a70393e3-a810-41ba-aaad-b7ce08938440\">\n",
              "    <div class=\"colab-df-container\">\n",
              "      <div>\n",
              "<style scoped>\n",
              "    .dataframe tbody tr th:only-of-type {\n",
              "        vertical-align: middle;\n",
              "    }\n",
              "\n",
              "    .dataframe tbody tr th {\n",
              "        vertical-align: top;\n",
              "    }\n",
              "\n",
              "    .dataframe thead th {\n",
              "        text-align: right;\n",
              "    }\n",
              "</style>\n",
              "<table border=\"1\" class=\"dataframe\">\n",
              "  <thead>\n",
              "    <tr style=\"text-align: right;\">\n",
              "      <th></th>\n",
              "      <th>Label</th>\n",
              "      <th>Message</th>\n",
              "    </tr>\n",
              "  </thead>\n",
              "  <tbody>\n",
              "    <tr>\n",
              "      <th>0</th>\n",
              "      <td>0.0</td>\n",
              "      <td>Go until jurong point, crazy.. Available only ...</td>\n",
              "    </tr>\n",
              "    <tr>\n",
              "      <th>1</th>\n",
              "      <td>0.0</td>\n",
              "      <td>Ok lar... Joking wif u oni...</td>\n",
              "    </tr>\n",
              "    <tr>\n",
              "      <th>2</th>\n",
              "      <td>1.0</td>\n",
              "      <td>Free entry in 2 a wkly comp to win FA Cup fina...</td>\n",
              "    </tr>\n",
              "    <tr>\n",
              "      <th>3</th>\n",
              "      <td>0.0</td>\n",
              "      <td>U dun say so early hor... U c already then say...</td>\n",
              "    </tr>\n",
              "    <tr>\n",
              "      <th>4</th>\n",
              "      <td>0.0</td>\n",
              "      <td>Nah I don't think he goes to usf, he lives aro...</td>\n",
              "    </tr>\n",
              "  </tbody>\n",
              "</table>\n",
              "</div>\n",
              "      <button class=\"colab-df-convert\" onclick=\"convertToInteractive('df-a70393e3-a810-41ba-aaad-b7ce08938440')\"\n",
              "              title=\"Convert this dataframe to an interactive table.\"\n",
              "              style=\"display:none;\">\n",
              "        \n",
              "  <svg xmlns=\"http://www.w3.org/2000/svg\" height=\"24px\"viewBox=\"0 0 24 24\"\n",
              "       width=\"24px\">\n",
              "    <path d=\"M0 0h24v24H0V0z\" fill=\"none\"/>\n",
              "    <path d=\"M18.56 5.44l.94 2.06.94-2.06 2.06-.94-2.06-.94-.94-2.06-.94 2.06-2.06.94zm-11 1L8.5 8.5l.94-2.06 2.06-.94-2.06-.94L8.5 2.5l-.94 2.06-2.06.94zm10 10l.94 2.06.94-2.06 2.06-.94-2.06-.94-.94-2.06-.94 2.06-2.06.94z\"/><path d=\"M17.41 7.96l-1.37-1.37c-.4-.4-.92-.59-1.43-.59-.52 0-1.04.2-1.43.59L10.3 9.45l-7.72 7.72c-.78.78-.78 2.05 0 2.83L4 21.41c.39.39.9.59 1.41.59.51 0 1.02-.2 1.41-.59l7.78-7.78 2.81-2.81c.8-.78.8-2.07 0-2.86zM5.41 20L4 18.59l7.72-7.72 1.47 1.35L5.41 20z\"/>\n",
              "  </svg>\n",
              "      </button>\n",
              "      \n",
              "  <style>\n",
              "    .colab-df-container {\n",
              "      display:flex;\n",
              "      flex-wrap:wrap;\n",
              "      gap: 12px;\n",
              "    }\n",
              "\n",
              "    .colab-df-convert {\n",
              "      background-color: #E8F0FE;\n",
              "      border: none;\n",
              "      border-radius: 50%;\n",
              "      cursor: pointer;\n",
              "      display: none;\n",
              "      fill: #1967D2;\n",
              "      height: 32px;\n",
              "      padding: 0 0 0 0;\n",
              "      width: 32px;\n",
              "    }\n",
              "\n",
              "    .colab-df-convert:hover {\n",
              "      background-color: #E2EBFA;\n",
              "      box-shadow: 0px 1px 2px rgba(60, 64, 67, 0.3), 0px 1px 3px 1px rgba(60, 64, 67, 0.15);\n",
              "      fill: #174EA6;\n",
              "    }\n",
              "\n",
              "    [theme=dark] .colab-df-convert {\n",
              "      background-color: #3B4455;\n",
              "      fill: #D2E3FC;\n",
              "    }\n",
              "\n",
              "    [theme=dark] .colab-df-convert:hover {\n",
              "      background-color: #434B5C;\n",
              "      box-shadow: 0px 1px 3px 1px rgba(0, 0, 0, 0.15);\n",
              "      filter: drop-shadow(0px 1px 2px rgba(0, 0, 0, 0.3));\n",
              "      fill: #FFFFFF;\n",
              "    }\n",
              "  </style>\n",
              "\n",
              "      <script>\n",
              "        const buttonEl =\n",
              "          document.querySelector('#df-a70393e3-a810-41ba-aaad-b7ce08938440 button.colab-df-convert');\n",
              "        buttonEl.style.display =\n",
              "          google.colab.kernel.accessAllowed ? 'block' : 'none';\n",
              "\n",
              "        async function convertToInteractive(key) {\n",
              "          const element = document.querySelector('#df-a70393e3-a810-41ba-aaad-b7ce08938440');\n",
              "          const dataTable =\n",
              "            await google.colab.kernel.invokeFunction('convertToInteractive',\n",
              "                                                     [key], {});\n",
              "          if (!dataTable) return;\n",
              "\n",
              "          const docLinkHtml = 'Like what you see? Visit the ' +\n",
              "            '<a target=\"_blank\" href=https://colab.research.google.com/notebooks/data_table.ipynb>data table notebook</a>'\n",
              "            + ' to learn more about interactive tables.';\n",
              "          element.innerHTML = '';\n",
              "          dataTable['output_type'] = 'display_data';\n",
              "          await google.colab.output.renderOutput(dataTable, element);\n",
              "          const docLink = document.createElement('div');\n",
              "          docLink.innerHTML = docLinkHtml;\n",
              "          element.appendChild(docLink);\n",
              "        }\n",
              "      </script>\n",
              "    </div>\n",
              "  </div>\n",
              "  "
            ]
          },
          "metadata": {},
          "execution_count": 14
        }
      ]
    },
    {
      "cell_type": "code",
      "source": [
        "x=df.Message\n",
        "y=df.Label\n",
        "from sklearn.model_selection import train_test_split\n",
        "x_train,x_test,y_train,y_test=train_test_split(x,y,test_size=.2,stratify=y,random_state=1)"
      ],
      "metadata": {
        "id": "f2bMG1aain4A"
      },
      "execution_count": null,
      "outputs": []
    },
    {
      "cell_type": "code",
      "source": [
        "train=pd.concat([x_train,y_train],ignore_index=True,axis=1)\n",
        "train.columns=['Message','Label']"
      ],
      "metadata": {
        "id": "d_t_xRfLkLI5"
      },
      "execution_count": null,
      "outputs": []
    },
    {
      "cell_type": "code",
      "source": [
        "train.head"
      ],
      "metadata": {
        "colab": {
          "base_uri": "https://localhost:8080/"
        },
        "id": "8hq6leSRmoZ1",
        "outputId": "9887fccb-55f5-47dd-93da-bf4a83e429e9"
      },
      "execution_count": null,
      "outputs": [
        {
          "output_type": "execute_result",
          "data": {
            "text/plain": [
              "<bound method NDFrame.head of                                                 Message  Label\n",
              "2357  Okay same with me. Well thanks for the clarifi...    0.0\n",
              "5568              Will Ì_ b going to esplanade fr home?    0.0\n",
              "2985  Reply to win å£100 weekly! What professional s...    1.0\n",
              "951                            Shb b ok lor... Thanx...    0.0\n",
              "647   PRIVATE! Your 2003 Account Statement for shows...    1.0\n",
              "...                                                 ...    ...\n",
              "4771  Hi, Mobile no.  &lt;#&gt;  has added you in th...    0.0\n",
              "1225  sir, you will receive the account no another 1...    0.0\n",
              "1196  What he said is not the matter. My mind saying...    0.0\n",
              "1769  Ha... Both of us doing e same thing. But i got...    0.0\n",
              "3281  Hey you around? I've got enough for a half + t...    0.0\n",
              "\n",
              "[4457 rows x 2 columns]>"
            ]
          },
          "metadata": {},
          "execution_count": 17
        }
      ]
    },
    {
      "cell_type": "code",
      "source": [
        "train.columns"
      ],
      "metadata": {
        "colab": {
          "base_uri": "https://localhost:8080/"
        },
        "id": "GbOHhLGXm1Y6",
        "outputId": "988ac1ea-4ef8-4fbe-bd33-ab97777d2f6e"
      },
      "execution_count": null,
      "outputs": [
        {
          "output_type": "execute_result",
          "data": {
            "text/plain": [
              "Index(['Message', 'Label'], dtype='object')"
            ]
          },
          "metadata": {},
          "execution_count": 19
        }
      ]
    },
    {
      "cell_type": "code",
      "source": [
        "test=pd.concat([x_test,y_test],ignore_index=True,axis=1)\n",
        "test.columns=['Message','Label']"
      ],
      "metadata": {
        "id": "RFNUkkwLm8Rk"
      },
      "execution_count": null,
      "outputs": []
    },
    {
      "cell_type": "code",
      "source": [
        "train_smaller = train.sample(frac=0.1, replace=True, random_state=1)\n",
        "test_smaller=test.sample(frac=0.1,replace =True,random_state=1)"
      ],
      "metadata": {
        "id": "tQb_BVM5nQT7"
      },
      "execution_count": null,
      "outputs": []
    },
    {
      "cell_type": "code",
      "source": [
        "x_train_s=train_smaller.Message.values\n",
        "y_train_s=train_smaller.Label.values\n",
        "x_test_s=test_smaller.Message.values\n",
        "y_test_s=test_smaller.Label.values"
      ],
      "metadata": {
        "id": "PAT06eiiPgKQ"
      },
      "execution_count": null,
      "outputs": []
    },
    {
      "cell_type": "code",
      "source": [
        "x_train.head()"
      ],
      "metadata": {
        "colab": {
          "base_uri": "https://localhost:8080/"
        },
        "id": "o1VzZUpj2pAH",
        "outputId": "d561b917-ea48-4431-8e08-f57a17611b98"
      },
      "execution_count": null,
      "outputs": [
        {
          "output_type": "execute_result",
          "data": {
            "text/plain": [
              "2357    Okay same with me. Well thanks for the clarifi...\n",
              "5568                Will Ì_ b going to esplanade fr home?\n",
              "2985    Reply to win å£100 weekly! What professional s...\n",
              "951                              Shb b ok lor... Thanx...\n",
              "647     PRIVATE! Your 2003 Account Statement for shows...\n",
              "Name: Message, dtype: object"
            ]
          },
          "metadata": {},
          "execution_count": 23
        }
      ]
    },
    {
      "cell_type": "markdown",
      "source": [
        "As this data is highly imbalanced. I will consider spam as positive class. In spam detection i can not afford type 1 error that is if i label a non spam mail as spam mail a person may miss important mail. Also type 2 error false negative can cause spam in inbox and fraud. so i will use f1 as my evaluation metrics as both false positive and false negative should be given same importance in prediction."
      ],
      "metadata": {
        "id": "rHCjF_VRdRWA"
      }
    },
    {
      "cell_type": "markdown",
      "source": [
        "1. Sparse Ebedding"
      ],
      "metadata": {
        "id": "K_kbu4I8X8u4"
      }
    },
    {
      "cell_type": "code",
      "source": [
        "X_train_cleaned = cp.SpacyPreprocessor(model='en_core_web_sm').transform(x_train_s)"
      ],
      "metadata": {
        "id": "e94QYtVBX7xF"
      },
      "execution_count": null,
      "outputs": []
    },
    {
      "cell_type": "code",
      "source": [
        "X_test_cleaned = cp.SpacyPreprocessor(model='en_core_web_sm').transform(x_test_s)"
      ],
      "metadata": {
        "id": "TWdEN_fqetxI"
      },
      "execution_count": null,
      "outputs": []
    },
    {
      "cell_type": "code",
      "source": [
        "file_X_train_cleaned_sparse_embed = data_folder / 'x_train_cleaned_sparse_embed.pkl'"
      ],
      "metadata": {
        "id": "bIwb2rbcGASH"
      },
      "execution_count": null,
      "outputs": []
    },
    {
      "cell_type": "code",
      "source": [
        "joblib.dump(X_train_cleaned, file_X_train_cleaned_sparse_embed)"
      ],
      "metadata": {
        "colab": {
          "base_uri": "https://localhost:8080/"
        },
        "id": "8Cfq6MDBecKb",
        "outputId": "f6a1a472-96cc-4a1f-bea1-13582c0c4954"
      },
      "execution_count": null,
      "outputs": [
        {
          "output_type": "execute_result",
          "data": {
            "text/plain": [
              "['/content/drive/MyDrive/NaturalLanguageprocessingClass/spamdata/archive/x_train_cleaned_sparse_embed.pkl']"
            ]
          },
          "metadata": {},
          "execution_count": 58
        }
      ]
    },
    {
      "cell_type": "code",
      "source": [
        "file_X_test_cleaned_sparse_embed = data_folder / 'x_test_cleaned_sparse_embed.pkl'"
      ],
      "metadata": {
        "id": "ECONFzV9e-Ps"
      },
      "execution_count": null,
      "outputs": []
    },
    {
      "cell_type": "code",
      "source": [
        "joblib.dump(X_test_cleaned, file_X_test_cleaned_sparse_embed)"
      ],
      "metadata": {
        "colab": {
          "base_uri": "https://localhost:8080/"
        },
        "id": "xaESDLdofDCu",
        "outputId": "2d96d9eb-9b7e-482b-f069-6d5c9270755e"
      },
      "execution_count": null,
      "outputs": [
        {
          "output_type": "execute_result",
          "data": {
            "text/plain": [
              "['/content/drive/MyDrive/NaturalLanguageprocessingClass/spamdata/archive/x_test_cleaned_sparse_embed.pkl']"
            ]
          },
          "metadata": {},
          "execution_count": 60
        }
      ]
    },
    {
      "cell_type": "code",
      "source": [
        "from xgboost import XGBClassifier\n",
        "classifier_1 = Pipeline([\n",
        "    ('vectorizer', TfidfVectorizer(analyzer='word', token_pattern=r\"[\\S]+\")),\n",
        "    ('classifier', XGBClassifier()) ])"
      ],
      "metadata": {
        "id": "ol7cEdkmfeKm"
      },
      "execution_count": null,
      "outputs": []
    },
    {
      "cell_type": "code",
      "source": [
        "param_grid_classifier_1 = {'vectorizer__max_features': [100, 500, 1000, 2000, 5000],\n",
        "                             'classifier__eta':[.001,.01,.1,1,10,100],'classifier__max_depth':[10,40,80,150,200],'classifier__scale_pos_weight':[10,20,30,40,50],'classifier':[XGBClassifier()]\n",
        "                           }"
      ],
      "metadata": {
        "id": "2zd4viYqvsem"
      },
      "execution_count": null,
      "outputs": []
    },
    {
      "cell_type": "code",
      "source": [
        "grid_classifier_1 = GridSearchCV(estimator=classifier_1, param_grid=param_grid_classifier_1, cv = 3,scoring = 'f1')\n",
        "X_train_cleaned_sparse_embed = joblib.load(file_X_train_cleaned_sparse_embed)\n",
        "grid_classifier_1.fit(X_train_cleaned_sparse_embed, y_train_s)"
      ],
      "metadata": {
        "colab": {
          "base_uri": "https://localhost:8080/"
        },
        "id": "GbYb_mUay3sX",
        "outputId": "1adfea99-db59-4482-b9c2-4013cb2e5d48"
      },
      "execution_count": null,
      "outputs": [
        {
          "output_type": "execute_result",
          "data": {
            "text/plain": [
              "GridSearchCV(cv=3,\n",
              "             estimator=Pipeline(steps=[('vectorizer',\n",
              "                                        TfidfVectorizer(token_pattern='[\\\\S]+')),\n",
              "                                       ('classifier', XGBClassifier())]),\n",
              "             param_grid={'classifier': [XGBClassifier(eta=0.001, max_depth=10,\n",
              "                                                      scale_pos_weight=20)],\n",
              "                         'classifier__eta': [0.001, 0.01, 0.1, 1, 10, 100],\n",
              "                         'classifier__max_depth': [10, 40, 80, 150, 200],\n",
              "                         'classifier__scale_pos_weight': [10, 20, 30, 40, 50],\n",
              "                         'vectorizer__max_features': [100, 500, 1000, 2000,\n",
              "                                                      5000]},\n",
              "             scoring='f1')"
            ]
          },
          "metadata": {},
          "execution_count": 81
        }
      ]
    },
    {
      "cell_type": "code",
      "source": [
        "print(f'Best cross-validation score: {grid_classifier_1.best_score_}')\n",
        "print(\"\\nBest parameters: \", grid_classifier_1.best_params_)\n",
        "print(\"\\nBest estimator: \", grid_classifier_1.best_estimator_)"
      ],
      "metadata": {
        "colab": {
          "base_uri": "https://localhost:8080/"
        },
        "id": "ZtrlpOVa6Ypg",
        "outputId": "1147f3fe-6a5c-45d1-fdf5-9b53b8c79faa"
      },
      "execution_count": null,
      "outputs": [
        {
          "output_type": "stream",
          "name": "stdout",
          "text": [
            "Best cross-validation score: 0.750137717579578\n",
            "\n",
            "Best parameters:  {'classifier': XGBClassifier(eta=0.001, max_depth=10, scale_pos_weight=20), 'classifier__eta': 0.001, 'classifier__max_depth': 10, 'classifier__scale_pos_weight': 20, 'vectorizer__max_features': 2000}\n",
            "\n",
            "Best estimator:  Pipeline(steps=[('vectorizer',\n",
            "                 TfidfVectorizer(max_features=2000, token_pattern='[\\\\S]+')),\n",
            "                ('classifier',\n",
            "                 XGBClassifier(eta=0.001, max_depth=10, scale_pos_weight=20))])\n"
          ]
        }
      ]
    },
    {
      "cell_type": "code",
      "source": [
        "file_best_estimator_spam_sparse = model_folder / 'pipeline1_spam_sparse_best_estimator.pkl'\n",
        "file_complete_grid_spam_sparse= model_folder / 'pipeline1_spam_sparse_complete_grid.pkl'"
      ],
      "metadata": {
        "id": "_d9YA1zHBiBy"
      },
      "execution_count": null,
      "outputs": []
    },
    {
      "cell_type": "code",
      "source": [
        "joblib.dump(grid_classifier_1.best_estimator_, file_best_estimator_spam_sparse)\n",
        "joblib.dump(grid_classifier_1, file_complete_grid_spam_sparse)"
      ],
      "metadata": {
        "colab": {
          "base_uri": "https://localhost:8080/"
        },
        "id": "1RxNNQQ4B4t9",
        "outputId": "b38854a2-2bde-4ac2-f684-468094c77778"
      },
      "execution_count": null,
      "outputs": [
        {
          "output_type": "execute_result",
          "data": {
            "text/plain": [
              "['/content/drive/MyDrive/NaturalLanguageprocessingClass/models/spamdata_hw3/pipeline1_spam_sparse_complete_grid.pkl']"
            ]
          },
          "metadata": {},
          "execution_count": 86
        }
      ]
    },
    {
      "cell_type": "code",
      "source": [
        "# load the saved model\n",
        "best_estimator_pipeline1_spam_sparse = joblib.load(file_best_estimator_spam_sparse)\n",
        "complete_grid_pipeline1_spam_sparse = joblib.load(file_complete_grid_spam_sparse)"
      ],
      "metadata": {
        "id": "AdGDeuNuDjPO"
      },
      "execution_count": null,
      "outputs": []
    },
    {
      "cell_type": "code",
      "source": [
        "# plot learning curces\n",
        "plot_learning_curve(best_estimator_pipeline1_spam_sparse, 'Learning Curves',\n",
        "                    X_train_cleaned_sparse_embed, y_train_s, n_jobs=-1)"
      ],
      "metadata": {
        "colab": {
          "base_uri": "https://localhost:8080/",
          "height": 368
        },
        "id": "uZA2OnLrECtZ",
        "outputId": "42f46fe3-b2a9-436e-bf5a-302449c983c5"
      },
      "execution_count": null,
      "outputs": [
        {
          "output_type": "execute_result",
          "data": {
            "text/plain": [
              "<module 'matplotlib.pyplot' from '/usr/local/lib/python3.8/dist-packages/matplotlib/pyplot.py'>"
            ]
          },
          "metadata": {},
          "execution_count": 89
        },
        {
          "output_type": "display_data",
          "data": {
            "text/plain": [
              "<Figure size 1440x360 with 3 Axes>"
            ],
            "image/png": "[encoded data removed]"
          },
          "metadata": {
            "needs_background": "light"
          }
        }
      ]
    },
    {
      "cell_type": "code",
      "source": [
        "# let's check the train scores\n",
        "print(best_estimator_pipeline1_spam_sparse.score(X_train_cleaned_sparse_embed, y_train_s))\n",
        "\n",
        "# let's check the cross validation score\n",
        "print(complete_grid_pipeline1_spam_sparse.best_score_)"
      ],
      "metadata": {
        "colab": {
          "base_uri": "https://localhost:8080/"
        },
        "id": "YI_DJ9wiEXlX",
        "outputId": "bd295a84-e83c-4d48-a6b8-15bad534cf8e"
      },
      "execution_count": null,
      "outputs": [
        {
          "output_type": "stream",
          "name": "stdout",
          "text": [
            "1.0\n",
            "0.750137717579578\n"
          ]
        }
      ]
    },
    {
      "cell_type": "code",
      "source": [
        "# Final Pipeline\n",
        "def final_pipeline(text):\n",
        "    # X_test_cleaned = cp.SpacyPreprocessor(model='en_core_web_sm').transform(text)\n",
        "    cleaned_text = joblib.load(file_X_test_cleaned_sparse_embed)\n",
        "    best_estimator_pipeline1_round1 = joblib.load(file_best_estimator_spam_sparse)\n",
        "    predictions = best_estimator_pipeline1_round1.predict(cleaned_text)\n",
        "    return predictions"
      ],
      "metadata": {
        "id": "jKSImkVUFCtk"
      },
      "execution_count": null,
      "outputs": []
    },
    {
      "cell_type": "code",
      "source": [
        "y_test_pred = final_pipeline(x_test_s)"
      ],
      "metadata": {
        "id": "5Uw821NGFVnV"
      },
      "execution_count": null,
      "outputs": []
    },
    {
      "cell_type": "code",
      "source": [
        "print('\\nTest set classification report:\\n\\n', \n",
        "      classification_report(y_test_s, y_test_pred))"
      ],
      "metadata": {
        "colab": {
          "base_uri": "https://localhost:8080/"
        },
        "id": "dAdShmabGj7F",
        "outputId": "1a22e1cd-31f4-410f-ca85-61c82b9abdbb"
      },
      "execution_count": null,
      "outputs": [
        {
          "output_type": "stream",
          "name": "stdout",
          "text": [
            "\n",
            "Test set classification report:\n",
            "\n",
            "               precision    recall  f1-score   support\n",
            "\n",
            "         0.0       0.98      0.99      0.98        94\n",
            "         1.0       0.94      0.89      0.91        18\n",
            "\n",
            "    accuracy                           0.97       112\n",
            "   macro avg       0.96      0.94      0.95       112\n",
            "weighted avg       0.97      0.97      0.97       112\n",
            "\n"
          ]
        }
      ]
    },
    {
      "cell_type": "markdown",
      "source": [
        "2) Feature Engineering\n",
        "In this case we will extract following features and use these as the input to our xgboost\n",
        "\n",
        "number of words\n",
        "\n",
        "number of characters\n",
        "\n",
        "number of characters without space\n",
        "\n",
        "average word length\n",
        "\n",
        "number of digits\n",
        "\n",
        "number of numbers\n",
        "\n",
        "number of nouns or propernouns\n",
        "\n",
        "number of aux\n",
        "\n",
        "number of verbs\n",
        "\n",
        "number of adjectives\n",
        "\n",
        "number of ner (entiites)\n",
        "\n",
        "count of money\n",
        "\n",
        "count of exclamation"
      ],
      "metadata": {
        "id": "uF4WynHB4_hV"
      }
    },
    {
      "cell_type": "code",
      "source": [
        "import spacy\n",
        "from spacy.matcher import Matcher\n",
        "nlp=spacy.load('en_core_web_sm')"
      ],
      "metadata": {
        "id": "_yaxy8uqNvtv"
      },
      "execution_count": null,
      "outputs": []
    },
    {
      "cell_type": "code",
      "source": [
        "file_X_train_cleaned_sparse_embed = data_folder / 'x_train_cleaned_sparse_embed.pkl'\n",
        "X_train_cleaned_sparse_embed = joblib.load(file_X_train_cleaned_sparse_embed)"
      ],
      "metadata": {
        "id": "L0fIVibLP8g_"
      },
      "execution_count": null,
      "outputs": []
    },
    {
      "cell_type": "code",
      "source": [
        "featurizer = ManualFeatures1(spacy_model='en_core_web_sm')"
      ],
      "metadata": {
        "id": "Gr37y4WSfOIn"
      },
      "execution_count": null,
      "outputs": []
    },
    {
      "cell_type": "code",
      "source": [
        "X_train_features, feature_names = featurizer.fit_transform(X_train_cleaned_sparse_embed)"
      ],
      "metadata": {
        "id": "oyzL8-udfTx3"
      },
      "execution_count": null,
      "outputs": []
    },
    {
      "cell_type": "code",
      "source": [
        "feature_names"
      ],
      "metadata": {
        "colab": {
          "base_uri": "https://localhost:8080/"
        },
        "id": "5EodXow_fuca",
        "outputId": "39c4d064-a551-461f-ad2d-df1486952eba"
      },
      "execution_count": null,
      "outputs": [
        {
          "output_type": "execute_result",
          "data": {
            "text/plain": [
              "['count_words',\n",
              " 'count_characters',\n",
              " 'count_characters_no_space',\n",
              " 'avg_word_length',\n",
              " 'count_digits',\n",
              " 'count_numbers',\n",
              " 'noun_count',\n",
              " 'aux_count',\n",
              " 'verb_count',\n",
              " 'adj_count',\n",
              " 'exclamation_count',\n",
              " 'money_count',\n",
              " 'ner']"
            ]
          },
          "metadata": {},
          "execution_count": 103
        }
      ]
    },
    {
      "cell_type": "code",
      "source": [
        "from xgboost import XGBClassifier\n",
        "classifier_2 = Pipeline([\n",
        "    ('classifier',XGBClassifier() ),\n",
        "                        ])"
      ],
      "metadata": {
        "id": "tsQ47V6df1wU"
      },
      "execution_count": null,
      "outputs": []
    },
    {
      "cell_type": "code",
      "source": [
        "param_grid_classifier_2 = {'classifier__eta':[.001,.01,.1,1,10,100],'classifier__max_depth':[10,40,80,150,200],'classifier__scale_pos_weight':[10,20,30,40,50],'classifier':[XGBClassifier()]\n",
        "                           }"
      ],
      "metadata": {
        "id": "SitcA-JxgFDd"
      },
      "execution_count": null,
      "outputs": []
    },
    {
      "cell_type": "code",
      "source": [
        "grid_classifier_2 = GridSearchCV(estimator=classifier_2,\n",
        "                                 param_grid=param_grid_classifier_2,scoring='f1',\n",
        "                                 cv=3)"
      ],
      "metadata": {
        "id": "7R9XPCxIgfpJ"
      },
      "execution_count": null,
      "outputs": []
    },
    {
      "cell_type": "code",
      "source": [
        "grid_classifier_2.fit(X_train_features, y_train_s)"
      ],
      "metadata": {
        "colab": {
          "base_uri": "https://localhost:8080/"
        },
        "id": "Fih3U3ZTgjcj",
        "outputId": "29a8ce3d-8f66-4673-aa1e-44d9348bca7d"
      },
      "execution_count": null,
      "outputs": [
        {
          "output_type": "execute_result",
          "data": {
            "text/plain": [
              "GridSearchCV(cv=3, estimator=Pipeline(steps=[('classifier', XGBClassifier())]),\n",
              "             param_grid={'classifier': [XGBClassifier(eta=0.001, max_depth=10,\n",
              "                                                      scale_pos_weight=10)],\n",
              "                         'classifier__eta': [0.001, 0.01, 0.1, 1, 10, 100],\n",
              "                         'classifier__max_depth': [10, 40, 80, 150, 200],\n",
              "                         'classifier__scale_pos_weight': [10, 20, 30, 40, 50]},\n",
              "             scoring='f1')"
            ]
          },
          "metadata": {},
          "execution_count": 111
        }
      ]
    },
    {
      "cell_type": "code",
      "source": [
        "print(f'Best cross-validation score: {grid_classifier_2.best_score_:.2f}')\n",
        "print(\"\\nBest parameters: \", grid_classifier_2.best_params_)\n",
        "print(\"\\nBest estimator: \", grid_classifier_2.best_estimator_)"
      ],
      "metadata": {
        "colab": {
          "base_uri": "https://localhost:8080/"
        },
        "id": "1B4kZYYggxUZ",
        "outputId": "294d2f95-8552-491b-b3af-79224de8ad4d"
      },
      "execution_count": null,
      "outputs": [
        {
          "output_type": "stream",
          "name": "stdout",
          "text": [
            "Best cross-validation score: 0.90\n",
            "\n",
            "Best parameters:  {'classifier': XGBClassifier(eta=0.001, max_depth=10, scale_pos_weight=10), 'classifier__eta': 0.001, 'classifier__max_depth': 10, 'classifier__scale_pos_weight': 10}\n",
            "\n",
            "Best estimator:  Pipeline(steps=[('classifier',\n",
            "                 XGBClassifier(eta=0.001, max_depth=10, scale_pos_weight=10))])\n"
          ]
        }
      ]
    },
    {
      "cell_type": "code",
      "source": [
        "file_best_estimator_pipeline2_spam_fe = model_folder / 'pipeline2_spam_fe_best_estimator.pkl'\n",
        "file_complete_grid_pipeline2_spam_fe = model_folder / 'pipeline2_spam_fe_complete_grid.pkl'"
      ],
      "metadata": {
        "id": "ioTqmdaWgy-0"
      },
      "execution_count": null,
      "outputs": []
    },
    {
      "cell_type": "code",
      "source": [
        "joblib.dump(grid_classifier_2.best_estimator_, file_best_estimator_pipeline2_spam_fe)\n",
        "joblib.dump(grid_classifier_2, file_complete_grid_pipeline2_spam_fe)"
      ],
      "metadata": {
        "colab": {
          "base_uri": "https://localhost:8080/"
        },
        "id": "LyJx2STrhMcY",
        "outputId": "1765262f-e767-49d2-dc58-051e92aaa3da"
      },
      "execution_count": null,
      "outputs": [
        {
          "output_type": "execute_result",
          "data": {
            "text/plain": [
              "['/content/drive/MyDrive/NaturalLanguageprocessingClass/models/spamdata_hw3/pipeline2_spam_fe_complete_grid.pkl']"
            ]
          },
          "metadata": {},
          "execution_count": 114
        }
      ]
    },
    {
      "cell_type": "code",
      "source": [
        "# load the saved model\n",
        "best_estimator_pipeline2_spam_fe = joblib.load(file_best_estimator_pipeline2_spam_fe)\n",
        "complete_grid_pipeline2_spam_fe = joblib.load(file_complete_grid_pipeline2_spam_fe)"
      ],
      "metadata": {
        "id": "1NFrdgxbhVNf"
      },
      "execution_count": null,
      "outputs": []
    },
    {
      "cell_type": "code",
      "source": [
        "plot_learning_curve(best_estimator_pipeline2_spam_fe, 'Learning Curves',\n",
        "                    X_train_features, y_train_s, n_jobs=-1)"
      ],
      "metadata": {
        "colab": {
          "base_uri": "https://localhost:8080/",
          "height": 368
        },
        "id": "2k2NRms1hdqo",
        "outputId": "97104bdb-c40e-489c-9d49-0ecd7ce4f88b"
      },
      "execution_count": null,
      "outputs": [
        {
          "output_type": "execute_result",
          "data": {
            "text/plain": [
              "<module 'matplotlib.pyplot' from '/usr/local/lib/python3.8/dist-packages/matplotlib/pyplot.py'>"
            ]
          },
          "metadata": {},
          "execution_count": 119
        },
        {
          "output_type": "display_data",
          "data": {
            "text/plain": [
              "<Figure size 1440x360 with 3 Axes>"
            ],
            "image/png": "[encoded data removed]"
          },
          "metadata": {
            "needs_background": "light"
          }
        }
      ]
    },
    {
      "cell_type": "code",
      "source": [
        "print(best_estimator_pipeline2_spam_fe.score(X_train_features, y_train_s))\n",
        "\n",
        "# let's check the cross validation score\n",
        "print(complete_grid_pipeline2_spam_fe.best_score_)"
      ],
      "metadata": {
        "colab": {
          "base_uri": "https://localhost:8080/"
        },
        "id": "BlPgJu2QhwR3",
        "outputId": "c41ae770-718b-4b82-8079-a186ec161bc2"
      },
      "execution_count": null,
      "outputs": [
        {
          "output_type": "stream",
          "name": "stdout",
          "text": [
            "0.9977578475336323\n",
            "0.8966242488511842\n"
          ]
        }
      ]
    },
    {
      "cell_type": "code",
      "source": [
        "def final_pipeline(text):\n",
        "    features, feature_names = featurizer.fit_transform(text)\n",
        "    best_estimator_pipeline2_spam_fe = joblib.load(file_best_estimator_pipeline2_spam_fe)\n",
        "    predictions = best_estimator_pipeline2_spam_fe.predict(features)\n",
        "    return predictions"
      ],
      "metadata": {
        "id": "Z70LXrl4h6sH"
      },
      "execution_count": null,
      "outputs": []
    },
    {
      "cell_type": "code",
      "source": [
        "y_test_pred = final_pipeline(x_test_s)"
      ],
      "metadata": {
        "id": "wwIN6OVaiE7c"
      },
      "execution_count": null,
      "outputs": []
    },
    {
      "cell_type": "code",
      "source": [
        "print('\\nTest set classification report:\\n\\n', \n",
        "      classification_report(y_test_s, y_test_pred))"
      ],
      "metadata": {
        "colab": {
          "base_uri": "https://localhost:8080/"
        },
        "id": "tdF9FiQKiV5E",
        "outputId": "e71432f8-dc4f-44cb-fead-11effb6eb043"
      },
      "execution_count": null,
      "outputs": [
        {
          "output_type": "stream",
          "name": "stdout",
          "text": [
            "\n",
            "Test set classification report:\n",
            "\n",
            "               precision    recall  f1-score   support\n",
            "\n",
            "         0.0       0.97      0.99      0.98        94\n",
            "         1.0       0.94      0.83      0.88        18\n",
            "\n",
            "    accuracy                           0.96       112\n",
            "   macro avg       0.95      0.91      0.93       112\n",
            "weighted avg       0.96      0.96      0.96       112\n",
            "\n"
          ]
        }
      ]
    },
    {
      "cell_type": "markdown",
      "source": [
        "3) Mixed "
      ],
      "metadata": {
        "id": "L59XyG27ijbV"
      }
    },
    {
      "cell_type": "code",
      "source": [
        "X_train_cleaned_sparse_embed = joblib.load(file_X_train_cleaned_sparse_embed)"
      ],
      "metadata": {
        "id": "pKilAd5niiRw"
      },
      "execution_count": null,
      "outputs": []
    },
    {
      "cell_type": "code",
      "source": [
        "X_train_final = pd.concat((pd.DataFrame(X_train_cleaned_sparse_embed, columns=['cleaned_text']),\n",
        "                           pd.DataFrame(X_train_features, columns=feature_names)), axis =1)"
      ],
      "metadata": {
        "id": "M6LnJqIikE74"
      },
      "execution_count": null,
      "outputs": []
    },
    {
      "cell_type": "code",
      "source": [
        "class SparseTransformer(TransformerMixin, BaseEstimator):\n",
        "    def __init__(self):\n",
        "        pass\n",
        "\n",
        "    def fit(self, X, y=None):\n",
        "        return self\n",
        "\n",
        "    def transform(self, X, y=None):\n",
        "        return csr_matrix(X)"
      ],
      "metadata": {
        "id": "XQWpO8qDkJpC"
      },
      "execution_count": null,
      "outputs": []
    },
    {
      "cell_type": "code",
      "source": [
        "sparse_features = Pipeline([('sparse', SparseTransformer()), ])\n",
        "vectorizer = Pipeline([('tfidf', TfidfVectorizer(max_features=5)), ])"
      ],
      "metadata": {
        "id": "wOLpe2aQkcqQ"
      },
      "execution_count": null,
      "outputs": []
    },
    {
      "cell_type": "code",
      "source": [
        "combined_features = ColumnTransformer(\n",
        " transformers=[\n",
        "     ('tfidf', vectorizer, 'cleaned_text'),\n",
        "      ], remainder=sparse_features\n",
        "     )"
      ],
      "metadata": {
        "id": "YJnKs15_lIJk"
      },
      "execution_count": null,
      "outputs": []
    },
    {
      "cell_type": "code",
      "source": [
        "classifier_3 = Pipeline([('combined_features',  combined_features),\n",
        "                         ('classifier', XGBClassifier()),\n",
        "                        ])"
      ],
      "metadata": {
        "id": "Xj2y9yZxlNGU"
      },
      "execution_count": null,
      "outputs": []
    },
    {
      "cell_type": "code",
      "source": [
        "classifier_3.get_params().keys()"
      ],
      "metadata": {
        "colab": {
          "base_uri": "https://localhost:8080/"
        },
        "id": "sf4AAerOlTKX",
        "outputId": "2a4ba297-3065-43b9-ccfa-da539e16a9ec"
      },
      "execution_count": null,
      "outputs": [
        {
          "output_type": "execute_result",
          "data": {
            "text/plain": [
              "dict_keys(['memory', 'steps', 'verbose', 'combined_features', 'classifier', 'combined_features__n_jobs', 'combined_features__remainder__memory', 'combined_features__remainder__steps', 'combined_features__remainder__verbose', 'combined_features__remainder__sparse', 'combined_features__remainder', 'combined_features__sparse_threshold', 'combined_features__transformer_weights', 'combined_features__transformers', 'combined_features__verbose', 'combined_features__verbose_feature_names_out', 'combined_features__tfidf', 'combined_features__tfidf__memory', 'combined_features__tfidf__steps', 'combined_features__tfidf__verbose', 'combined_features__tfidf__tfidf', 'combined_features__tfidf__tfidf__analyzer', 'combined_features__tfidf__tfidf__binary', 'combined_features__tfidf__tfidf__decode_error', 'combined_features__tfidf__tfidf__dtype', 'combined_features__tfidf__tfidf__encoding', 'combined_features__tfidf__tfidf__input', 'combined_features__tfidf__tfidf__lowercase', 'combined_features__tfidf__tfidf__max_df', 'combined_features__tfidf__tfidf__max_features', 'combined_features__tfidf__tfidf__min_df', 'combined_features__tfidf__tfidf__ngram_range', 'combined_features__tfidf__tfidf__norm', 'combined_features__tfidf__tfidf__preprocessor', 'combined_features__tfidf__tfidf__smooth_idf', 'combined_features__tfidf__tfidf__stop_words', 'combined_features__tfidf__tfidf__strip_accents', 'combined_features__tfidf__tfidf__sublinear_tf', 'combined_features__tfidf__tfidf__token_pattern', 'combined_features__tfidf__tfidf__tokenizer', 'combined_features__tfidf__tfidf__use_idf', 'combined_features__tfidf__tfidf__vocabulary', 'classifier__base_score', 'classifier__booster', 'classifier__colsample_bylevel', 'classifier__colsample_bynode', 'classifier__colsample_bytree', 'classifier__gamma', 'classifier__learning_rate', 'classifier__max_delta_step', 'classifier__max_depth', 'classifier__min_child_weight', 'classifier__missing', 'classifier__n_estimators', 'classifier__n_jobs', 'classifier__nthread', 'classifier__objective', 'classifier__random_state', 'classifier__reg_alpha', 'classifier__reg_lambda', 'classifier__scale_pos_weight', 'classifier__seed', 'classifier__silent', 'classifier__subsample', 'classifier__verbosity'])"
            ]
          },
          "metadata": {},
          "execution_count": 137
        }
      ]
    },
    {
      "cell_type": "code",
      "source": [
        "param_grid_classifier_3 = {'combined_features__tfidf__tfidf__max_features': [500, 1000, 2000], 'classifier__eta':[.001,.01,.1,1,10,100],'classifier__max_depth':[10,40,80,150,200],'classifier__scale_pos_weight':[10,20,30,40,50],'classifier':[XGBClassifier()]\n",
        "                           \n",
        "                          }"
      ],
      "metadata": {
        "id": "cdhfmdqqlaH4"
      },
      "execution_count": null,
      "outputs": []
    },
    {
      "cell_type": "code",
      "source": [
        "grid_classifier_3 = GridSearchCV(estimator=classifier_3, \n",
        "                                 param_grid=param_grid_classifier_3,\n",
        "                                 cv=3)"
      ],
      "metadata": {
        "id": "q2GfVLcSlmbT"
      },
      "execution_count": null,
      "outputs": []
    },
    {
      "cell_type": "code",
      "source": [
        "grid_classifier_3.fit(X_train_final, y_train_s)"
      ],
      "metadata": {
        "colab": {
          "base_uri": "https://localhost:8080/"
        },
        "id": "sBhWAca8lqqZ",
        "outputId": "0c9ff606-0bbc-4d8f-dcef-d64d4e7b0eed"
      },
      "execution_count": null,
      "outputs": [
        {
          "output_type": "execute_result",
          "data": {
            "text/plain": [
              "GridSearchCV(cv=3,\n",
              "             estimator=Pipeline(steps=[('combined_features',\n",
              "                                        ColumnTransformer(remainder=Pipeline(steps=[('sparse',\n",
              "                                                                                     SparseTransformer())]),\n",
              "                                                          transformers=[('tfidf',\n",
              "                                                                         Pipeline(steps=[('tfidf',\n",
              "                                                                                          TfidfVectorizer(max_features=5))]),\n",
              "                                                                         'cleaned_text')])),\n",
              "                                       ('classifier', XGBClassifier())]),\n",
              "             param_grid={'classifier': [XGBClassifier(eta=0.001, max_depth=10,\n",
              "                                                      scale_pos_weight=20)],\n",
              "                         'classifier__eta': [0.001, 0.01, 0.1, 1, 10, 100],\n",
              "                         'classifier__max_depth': [10, 40, 80, 150, 200],\n",
              "                         'classifier__scale_pos_weight': [10, 20, 30, 40, 50],\n",
              "                         'combined_features__tfidf__tfidf__max_features': [500,\n",
              "                                                                           1000,\n",
              "                                                                           2000]})"
            ]
          },
          "metadata": {},
          "execution_count": 140
        }
      ]
    },
    {
      "cell_type": "code",
      "source": [
        "print(\"Best cross-validation score: {:.2f}\".format(grid_classifier_3.best_score_))\n",
        "print(\"\\nBest parameters: \", grid_classifier_3.best_params_)\n",
        "print(\"\\nBest estimator: \", grid_classifier_3.best_estimator_)"
      ],
      "metadata": {
        "colab": {
          "base_uri": "https://localhost:8080/"
        },
        "id": "zLP5ECK2l9wI",
        "outputId": "212d3ffe-52b1-47f9-e6e0-1e9c5ecd19e2"
      },
      "execution_count": null,
      "outputs": [
        {
          "output_type": "stream",
          "name": "stdout",
          "text": [
            "Best cross-validation score: 0.98\n",
            "\n",
            "Best parameters:  {'classifier': XGBClassifier(eta=0.001, max_depth=10, scale_pos_weight=20), 'classifier__eta': 0.001, 'classifier__max_depth': 10, 'classifier__scale_pos_weight': 20, 'combined_features__tfidf__tfidf__max_features': 500}\n",
            "\n",
            "Best estimator:  Pipeline(steps=[('combined_features',\n",
            "                 ColumnTransformer(remainder=Pipeline(steps=[('sparse',\n",
            "                                                              SparseTransformer())]),\n",
            "                                   transformers=[('tfidf',\n",
            "                                                  Pipeline(steps=[('tfidf',\n",
            "                                                                   TfidfVectorizer(max_features=500))]),\n",
            "                                                  'cleaned_text')])),\n",
            "                ('classifier',\n",
            "                 XGBClassifier(eta=0.001, max_depth=10, scale_pos_weight=20))])\n"
          ]
        }
      ]
    },
    {
      "cell_type": "code",
      "source": [
        "file_best_estimator_pipeline3_spam_mixed = model_folder / 'pipeline3_spam_mixed_best_estimator.pkl'\n",
        "file_complete_grid_pipeline3_spam_mixed = model_folder / 'pipeline3_spam_mixed_complete_grid.pkl'"
      ],
      "metadata": {
        "id": "UIgcBJWDmK38"
      },
      "execution_count": null,
      "outputs": []
    },
    {
      "cell_type": "code",
      "source": [
        "joblib.dump(grid_classifier_3.best_estimator_, file_best_estimator_pipeline3_spam_mixed)\n",
        "joblib.dump(grid_classifier_3, file_complete_grid_pipeline3_spam_mixed)"
      ],
      "metadata": {
        "colab": {
          "base_uri": "https://localhost:8080/"
        },
        "id": "uJLzTvczmZSF",
        "outputId": "33b78662-7ad2-4364-8ff8-50a0195c3b32"
      },
      "execution_count": null,
      "outputs": [
        {
          "output_type": "execute_result",
          "data": {
            "text/plain": [
              "['/content/drive/MyDrive/NaturalLanguageprocessingClass/models/spamdata_hw3/pipeline3_spam_mixed_complete_grid.pkl']"
            ]
          },
          "metadata": {},
          "execution_count": 143
        }
      ]
    },
    {
      "cell_type": "code",
      "source": [
        "best_estimator_pipeline3_spam_mixed = joblib.load(file_best_estimator_pipeline3_spam_mixed)\n",
        "complete_grid_pipeline3_spam_mixed = joblib.load(file_complete_grid_pipeline3_spam_mixed)"
      ],
      "metadata": {
        "id": "WnPaBbHKmh2F"
      },
      "execution_count": null,
      "outputs": []
    },
    {
      "cell_type": "code",
      "source": [
        "plot_learning_curve(best_estimator_pipeline3_spam_mixed, 'Learning Curves',\n",
        "                    X_train_final, y_train_s, n_jobs=-1)"
      ],
      "metadata": {
        "colab": {
          "base_uri": "https://localhost:8080/",
          "height": 368
        },
        "id": "uHF1YiA4mvdb",
        "outputId": "39203c6a-3be6-45d3-fa42-e3c25b0fdcce"
      },
      "execution_count": null,
      "outputs": [
        {
          "output_type": "execute_result",
          "data": {
            "text/plain": [
              "<module 'matplotlib.pyplot' from '/usr/local/lib/python3.8/dist-packages/matplotlib/pyplot.py'>"
            ]
          },
          "metadata": {},
          "execution_count": 145
        },
        {
          "output_type": "display_data",
          "data": {
            "text/plain": [
              "<Figure size 1440x360 with 3 Axes>"
            ],
            "image/png": "[encoded data removed]"
          },
          "metadata": {
            "needs_background": "light"
          }
        }
      ]
    },
    {
      "cell_type": "code",
      "source": [
        "# let's check the train scores\n",
        "print(best_estimator_pipeline3_spam_mixed.score(X_train_final, y_train_s))\n",
        "\n",
        "# let's check the cross validation score\n",
        "print(complete_grid_pipeline3_spam_mixed.best_score_)"
      ],
      "metadata": {
        "colab": {
          "base_uri": "https://localhost:8080/"
        },
        "id": "hFDWARR7m2a2",
        "outputId": "d2bcf688-365a-48c3-d178-75848f1215c7"
      },
      "execution_count": null,
      "outputs": [
        {
          "output_type": "stream",
          "name": "stdout",
          "text": [
            "0.9977578475336323\n",
            "0.9798204244512969\n"
          ]
        }
      ]
    },
    {
      "cell_type": "code",
      "source": [
        "def final_pipeline(text):\n",
        "    # X_test_cleaned = cp.SpacyPreprocessor(model='en_core_web_sm').transform(text)\n",
        "    cleaned_text = joblib.load(file_X_test_cleaned_sparse_embed)\n",
        "    X_features, feature_names = featurizer.fit_transform(text)\n",
        "    X_final = pd.concat((pd.DataFrame(cleaned_text, columns=['cleaned_text']),\n",
        "                         pd.DataFrame(X_features, columns=feature_names)), axis=1)\n",
        "    best_estimator_pipeline3_spam_mixed = joblib.load(file_best_estimator_pipeline3_spam_mixed)\n",
        "    predictions = best_estimator_pipeline3_spam_mixed.predict(X_final)\n",
        "    return predictions"
      ],
      "metadata": {
        "id": "khGLRvKanGNG"
      },
      "execution_count": null,
      "outputs": []
    },
    {
      "cell_type": "code",
      "source": [
        "y_test_pred = final_pipeline(x_test_s)"
      ],
      "metadata": {
        "id": "uvUii6rGnWVW"
      },
      "execution_count": null,
      "outputs": []
    },
    {
      "cell_type": "code",
      "source": [
        "print('\\nTest set classification report:\\n\\n', classification_report(y_test_s, y_test_pred ))"
      ],
      "metadata": {
        "colab": {
          "base_uri": "https://localhost:8080/"
        },
        "id": "KcpOANqVnbEf",
        "outputId": "1394da81-108b-4212-8b87-f5fe2785021f"
      },
      "execution_count": null,
      "outputs": [
        {
          "output_type": "stream",
          "name": "stdout",
          "text": [
            "\n",
            "Test set classification report:\n",
            "\n",
            "               precision    recall  f1-score   support\n",
            "\n",
            "         0.0       0.97      0.99      0.98        94\n",
            "         1.0       0.94      0.83      0.88        18\n",
            "\n",
            "    accuracy                           0.96       112\n",
            "   macro avg       0.95      0.91      0.93       112\n",
            "weighted avg       0.96      0.96      0.96       112\n",
            "\n"
          ]
        }
      ]
    }
  ]
}